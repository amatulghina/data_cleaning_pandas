{
 "cells": [
  {
   "cell_type": "code",
   "execution_count": null,
   "metadata": {},
   "outputs": [],
   "source": [
    "import pandas as pd\n",
    "import numpy as np\n",
    "import matplotlib.pyplot as plt\n",
    "import plotly.express as px\n",
    "\n",
    "data = \"https://www.sharkattackfile.net/spreadsheets/GSAF5.xls\"\n",
    "\n",
    "df = pd.read_excel(data)"
   ]
  },
  {
   "cell_type": "code",
   "execution_count": null,
   "metadata": {},
   "outputs": [],
   "source": [
    "# Keeping relevant variables for the analysis in a new dataframe called shark_attacks\n",
    "shark_attacks = df[['Date', 'Year', 'Type', 'Country', 'State', 'Location', 'Activity',\n",
    "       'Name', 'Sex', 'Age', 'Injury', 'Time', 'Species ']]"
   ]
  },
  {
   "cell_type": "markdown",
   "metadata": {},
   "source": [
    "## Data Cleaning"
   ]
  },
  {
   "cell_type": "code",
   "execution_count": null,
   "metadata": {},
   "outputs": [],
   "source": [
    "# Cleaning variable names\n",
    "shark_attacks.columns = ['date', 'year', 'type', 'country', 'state', 'location', 'activity',\n",
    "       'name', 'sex', 'age', 'injury', 'time', 'species']\n",
    "shark_attacks.columns"
   ]
  },
  {
   "cell_type": "code",
   "execution_count": null,
   "metadata": {},
   "outputs": [],
   "source": [
    "# Remove rows with missing values in all variables\n",
    "\n",
    "# missing = shark_attacks.isna().sum(axis=1)\n",
    "# missing.value_counts()\n",
    "shark_attacks.dropna(how='all', inplace=True)"
   ]
  },
  {
   "cell_type": "code",
   "execution_count": null,
   "metadata": {},
   "outputs": [],
   "source": [
    "# %load cleaning.py\n",
    "import pandas as pd\n",
    "import numpy as np\n",
    "\n",
    "\n",
    "# Remove rows with missing values in all variables\n",
    "def clean_missing(df):\n",
    "    df.dropna(how='all', inplace=True)\n",
    "    return df\n",
    "\n",
    "# Cleaning invalid values\n",
    "\n",
    "def clean_sex(df):\n",
    "    df[\"sex\"].replace([\"M \",\" M\",\"M x 2\"], \"M\", inplace=True)\n",
    "    df[\"sex\"].replace([\"lli\",\"N\",\".\"], None , inplace=True)\n",
    "    return df\n",
    "\n",
    "def clean_age(df):\n",
    "    df[\"age\"].replace([\"2 to 3 months\", \"9 months\"], \"0.5\", inplace=True)\n",
    "    df[\"age\"].replace([\"18 months\"], \"2\", inplace=True)\n",
    "    df[\"age\"].replace([\"2½\"], \"3\", inplace=True)\n",
    "    df[\"age\"].replace([\"6½\", \"7 or 8\"], \"7\", inplace=True)\n",
    "    df[\"age\"].replace([\"8 or 10\", \"9 or 10\"], \"9\", inplace=True)\n",
    "    df[\"age\"].replace([\"teen\", \"Teen\", \"a minor\"], \"10\", inplace=True)\n",
    "    df[\"age\"].replace([\"!!\", \"Both 11\", \"9 & 12\", \"10 or 12\"], \"11\", inplace=True)\n",
    "    df[\"age\"].replace([\"!2\", \"?    &   14\", \"12 or 13\"], \"12\", inplace=True)\n",
    "    df[\"age\"].replace([\"13 or 14\"], \"13\", inplace=True)\n",
    "    df[\"age\"].replace([\"!6\", \"13 or 18\", \"Teens\", \"16 to 18\", \"17 & 16\"], \"16\", inplace=True)\n",
    "    df[\"age\"].replace([\"18 or 20\", \"? & 19\"], \"19\", inplace=True)\n",
    "    df[\"age\"].replace([\"20?\", \"18 to 22\", \"20 \"], \"20\", inplace=True)\n",
    "    df[\"age\"].replace([\"23 & 20\", \"21 & ?\"], \"22\", inplace=True)\n",
    "    df[\"age\"].replace([\"20/30\", \"20s\", \"20's\", \"28 & 22\", \"7      &    31\", \"28 & 26\", \"21 or 26\", \"23 & 26\", \"mid-20s\"], \"25\", inplace=True)\n",
    "    df[\"age\"].replace([\" 28\", \"28, 23 & 30\", \"17 & 35\", \"25 or 28\", \"36 & 23\", \"34 & 19\"], \"28\", inplace=True)\n",
    "    df[\"age\"].replace([\"(adult)\", \"adult\", '\"middle-age\"','\"young\"', \"MAKE LINE GREEN\", \"9 & 60\", \"'young'\", \"young\", \" 30\", \"33 & 26\", \"45 and 15\", \"25 to 35\", \"F\",\"\", \" \", \"37, 67, 35, 27,  ? & 27\", \"21, 34,24 & 35\"], \"30\", inplace=True)\n",
    "    df[\"age\"].replace([\"30 & 32\", \"32 & 30\"], \"31\", inplace=True)\n",
    "    df[\"age\"].replace([\"Ca. 33\", \"X\", \"  \", \"31 or 33\", \"22, 57, 31\", \"A.M.\", \"\\xa0 \"], \"33\", inplace=True)\n",
    "    df[\"age\"].replace([\"30s\", \"M\", \"30 or 36\", \"33 or 37\", \"33 & 37\", \"mid-30s\"], \"35\", inplace=True)\n",
    "    df[\"age\"].replace([\"46 & 34\", \"50 & 30\"], \"40\", inplace=True)\n",
    "    df[\"age\"].replace([\"36 & 26\"], \"41\", inplace=True)\n",
    "    df[\"age\"].replace([\" 43\"], \"43\", inplace=True)\n",
    "    df[\"age\"].replace([\"40s\", \"45 \"], \"45\", inplace=True)\n",
    "    df[\"age\"].replace([\"50s\"], \"55\", inplace=True)\n",
    "    df[\"age\"].replace([\"60s\", \"60's\", \">50\"], \"60\", inplace=True)\n",
    "    df[\"age\"].replace([\"74 \", \"Elderly\"], \"74\", inplace=True)\n",
    "    df[\"age\"] = shark_attacks[\"age\"].astype(float)\n",
    "    return df\n",
    "\n",
    "def age_group(age):\n",
    "    if age <= 12:\n",
    "        return 'Child'\n",
    "    elif age <= 20:\n",
    "        return 'Teens'\n",
    "    elif age <= 60:\n",
    "        return 'Adult'\n",
    "    else:\n",
    "        return 'Senior'\n",
    "\n",
    "def clean_activity(df):\n",
    "    df[\"activity\"] = df[\"activity\"].apply(lambda x: x.lower() if isinstance(x, str) else x)\n",
    "    df[\"activity\"] = df[\"activity\"].replace(r'.*fishing.*', 'fishing', regex=True)\n",
    "    df[\"activity\"] = df[\"activity\"].replace(r'.*diving.*', 'diving', regex=True)\n",
    "    df[\"activity\"] = df[\"activity\"].replace(r'.*surfing.*', 'surfing', regex=True)\n",
    "    df[\"activity\"] = df[\"activity\"].replace(r'.*surf.*', 'surfing', regex=True)\n",
    "    df[\"activity\"] = df[\"activity\"].replace(r'.*swimming.*', 'swimming', regex=True)\n",
    "    df[\"activity\"] = df[\"activity\"].replace(r'.*wading.*', 'wading', regex=True)\n",
    "    activity = [\"fishing\", \"diving\", \"surfing\", \"swimming\", \"wading\"]\n",
    "    df.loc[~df[\"activity\"].isin(activity), 'activity'] = 'other'\n",
    "    return df\n",
    "\n",
    "def clean_year(df):\n",
    "    df[\"year\"].replace([77], 1977, inplace=True)\n",
    "    df[\"year\"].replace([5,0], None, inplace=True)\n",
    "    return df\n",
    "\n",
    "def clean_injury(df):\n",
    "    df[\"injury_type\"] = df[\"injury\"]\n",
    "    df[\"injury_type\"] = df[\"injury_type\"].apply(lambda x: x.lower() if isinstance(x, str) else x)\n",
    "    df[\"injury_type\"] = df[\"injury_type\"].replace(r'.*fatal.*', 'fatal', regex=True)\n",
    "    df[\"injury_type\"] = df[\"injury_type\"].replace(r'.*drown.*', 'fatal', regex=True)\n",
    "    df[\"injury_type\"] = df[\"injury_type\"].replace(r'.*no injury.*', 'survived', regex=True)\n",
    "    df[\"injury_type\"] = df[\"injury_type\"].replace(r'.*survived.*', 'survived', regex=True)\n",
    "    df[\"injury_type\"] = df[\"injury_type\"].replace(r'.*no inury.*', 'survived', regex=True)\n",
    "    df[\"injury_type\"] = df[\"injury_type\"].replace(r'.*bitten.*', 'injured', regex=True)\n",
    "    df[\"injury_type\"] = df[\"injury_type\"].replace(r'.*injury.*', 'injured', regex=True)\n",
    "    df[\"injury_type\"] = df[\"injury_type\"].replace(r'.*injuries.*', 'injured', regex=True)\n",
    "    df[\"injury_type\"] = df[\"injury_type\"].replace(r'.*foot.*', 'injured', regex=True)\n",
    "    df[\"injury_type\"] = df[\"injury_type\"].replace(r'.*leg.*', 'injured', regex=True)\n",
    "    df[\"injury_type\"] = df[\"injury_type\"].replace(r'.*lacerat.*', 'injured', regex=True)\n",
    "    df[\"injury_type\"] = df[\"injury_type\"].replace(r'.*severed.*', 'injured', regex=True)\n",
    "    df[\"injury_type\"] = df[\"injury_type\"].replace(r'.*injured.*', 'injured', regex=True)\n",
    "    df[\"injury_type\"] = df[\"injury_type\"].replace(r'.*bite.*', 'injured', regex=True)\n",
    "    df[\"injury_type\"] = df[\"injury_type\"].replace(r'.*bitten.*', 'injured', regex=True)\n",
    "    return df\n",
    "\n",
    "def clean_type(df):\n",
    "    df['type'] = df['type'].str.strip()\n",
    "    replacements = {\n",
    "        'Unverified': 'Questionable',\n",
    "        'Under investigation': 'Questionable',\n",
    "        'Unconfirmed': 'Questionable',\n",
    "        '?': 'Questionable',\n",
    "        'Boat': 'Watercraft',\n",
    "        'Invalid': 'Questionable'\n",
    "    }\n",
    "    df['type'] = df['type'].replace(replacements)\n",
    "    return df"
   ]
  },
  {
   "cell_type": "code",
   "execution_count": null,
   "metadata": {},
   "outputs": [],
   "source": [
    "# Data Cleaning\n",
    "\n",
    "shark_attacks = clean_missing(shark_attacks)\n",
    "shark_attacks = clean_sex(shark_attacks)\n",
    "shark_attacks = clean_age(shark_attacks)\n",
    "shark_attacks = clean_activity(shark_attacks)\n",
    "shark_attacks = clean_year(shark_attacks)\n",
    "shark_attacks = clean_injury(shark_attacks)\n",
    "shark_attacks = clean_type(shark_attacks)"
   ]
  },
  {
   "cell_type": "code",
   "execution_count": null,
   "metadata": {},
   "outputs": [],
   "source": [
    "# Create Age Group\n",
    "shark_attacks['age_group'] = shark_attacks['age'].apply(age_group)"
   ]
  },
  {
   "cell_type": "markdown",
   "metadata": {},
   "source": [
    "## Exploratory Data Analysis"
   ]
  },
  {
   "cell_type": "code",
   "execution_count": null,
   "metadata": {},
   "outputs": [],
   "source": [
    "# Global Overview\n",
    "\n",
    "# Number of incidents throughout the year\n",
    "shark_attacks[\"incidents\"]=1\n",
    "incidents = shark_attacks.groupby('year')['incidents'].sum().reset_index()\n",
    "incidents = incidents[(incidents[\"year\"]>1800) & (incidents[\"year\"]<2024)].reset_index(drop=True)\n",
    "\n",
    "# Create a line plot using Matplotlib\n",
    "\n",
    "plt.figure(figsize=(10, 6))\n",
    "plt.plot(incidents['year'],incidents['incidents'], marker='o', linestyle='-', color='b')\n",
    "\n",
    "# Add title and labels\n",
    "plt.title('Total Incidents by Year')\n",
    "plt.xlabel('Year')\n",
    "plt.ylabel('Incidents')\n",
    "\n",
    "# Display the plot\n",
    "plt.grid(True)\n",
    "plt.show()"
   ]
  },
  {
   "cell_type": "code",
   "execution_count": null,
   "metadata": {},
   "outputs": [],
   "source": [
    "#Age \n",
    "age = shark_attacks[\"age\"].dropna().astype(float)\n",
    "\n",
    "plt.hist(age, bins=30, edgecolor='black')\n",
    "#plt.hist(age, bins=15, edgecolor='black')\n",
    "\n",
    "# Add titles and labels\n",
    "plt.title('Age distribution')\n",
    "plt.xlabel('Age')\n",
    "plt.ylabel('Frequency')\n",
    "\n",
    "# Show the histogram\n",
    "plt.show()"
   ]
  },
  {
   "cell_type": "code",
   "execution_count": null,
   "metadata": {},
   "outputs": [],
   "source": [
    "# Gender\n",
    "\n",
    "print(shark_attacks[\"sex\"].value_counts(normalize=True).head(10).mul(100).round(1).astype(str) + '%')"
   ]
  },
  {
   "cell_type": "code",
   "execution_count": null,
   "metadata": {},
   "outputs": [],
   "source": [
    "# Teen Gender\n",
    "\n",
    "teens = shark_attacks[shark_attacks[\"age_group\"] == \"Teens\"]\n",
    "print(\"sex\")\n",
    "print(teens[\"sex\"].value_counts(normalize=True).head(10).mul(100).round(1).astype(str) + '%')"
   ]
  },
  {
   "cell_type": "code",
   "execution_count": null,
   "metadata": {},
   "outputs": [],
   "source": [
    "# Pivot Table\n",
    "pivot1= shark_attacks.pivot_table(index='age_group', columns='activity', values=['incidents'], aggfunc='count')\n",
    "pivot1"
   ]
  },
  {
   "cell_type": "code",
   "execution_count": null,
   "metadata": {},
   "outputs": [],
   "source": [
    "# Pivot Table\n",
    "pivot2= shark_attacks.pivot_table(index='age_group', columns='type', values=['incidents'], aggfunc='count')\n",
    "pivot2"
   ]
  },
  {
   "cell_type": "code",
   "execution_count": null,
   "metadata": {},
   "outputs": [],
   "source": [
    "# Checking what's inside the variables in shark_attacks dataframe\n",
    "var = ['year', 'type', 'activity', 'sex', 'age', 'injury', 'country', 'state', 'location']\n",
    "\n",
    "for column in var:\n",
    "    print(column)\n",
    "    #print(shark_attacks[column].value_counts())\n",
    "    print(shark_attacks[column].value_counts(normalize=True).head(10).mul(100).round(1).astype(str) + '%')\n",
    "    #print(shark_attacks[column].unique())\n",
    "    #print(shark_attacks[column].value_counts(normalize=True).head(10))\n",
    "    print(\"\\n\")\n",
    "\n"
   ]
  }
 ],
 "metadata": {
  "kernelspec": {
   "display_name": "Python 3",
   "language": "python",
   "name": "python3"
  },
  "language_info": {
   "codemirror_mode": {
    "name": "ipython",
    "version": 3
   },
   "file_extension": ".py",
   "mimetype": "text/x-python",
   "name": "python",
   "nbconvert_exporter": "python",
   "pygments_lexer": "ipython3",
   "version": "3.7.4"
  }
 },
 "nbformat": 4,
 "nbformat_minor": 4
}
